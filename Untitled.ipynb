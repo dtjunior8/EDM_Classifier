{
 "cells": [
  {
   "cell_type": "code",
   "execution_count": 1,
   "id": "209ec8e7",
   "metadata": {},
   "outputs": [],
   "source": [
    "import spotipy\n",
    "from spotipy.oauth2 import SpotifyClientCredentials\n",
    "import numpy as np\n",
    "import pandas as pd\n",
    "import matplotlib\n",
    "import seaborn as sns\n",
    "from matplotlib import pyplot as plt"
   ]
  },
  {
   "cell_type": "code",
   "execution_count": 2,
   "id": "f9b4ef60",
   "metadata": {},
   "outputs": [],
   "source": [
    "# Using the client_id and client_secret to set up the data collection process\n",
    "\n",
    "client_id = \"329853f8e51e4e37b1b53cb3938895fe\"\n",
    "client_secret = '126f26b73a094898ab0ced686f6ff8dd'\n",
    "\n",
    "client_credentials_manager = SpotifyClientCredentials(client_id, client_secret)\n",
    "sp = spotipy.Spotify(client_credentials_manager=client_credentials_manager)"
   ]
  },
  {
   "cell_type": "markdown",
   "id": "194fdcdb",
   "metadata": {},
   "source": [
    "danceability, energy, key, loudness, mode, speechiness, accousticness, instrumentalness, liveness, valence, duration_ms, time_signature\n",
    "\n",
    "12 * 10 at least 120 rows using the rule of tens."
   ]
  },
  {
   "cell_type": "code",
   "execution_count": 3,
   "id": "dde7d420",
   "metadata": {},
   "outputs": [],
   "source": [
    "# get the URI's from both melodic dubstep artists and non-melodic dubstep artists\n",
    "\n",
    "melodic_dubstep = {\n",
    "    'illenium':\"45eNHdiiabvmbp4erw26rg\",\n",
    "    'william_black':\"7d5SfGXKpgS3JK8BFIq59h\",\n",
    "    'seven_lions':\"6fcTRFpz0yH79qSKfof7lp\",\n",
    "    'dabin':\"7lZauDnRoAC3kmaYae2opv\",\n",
    "    'said_the_sky':\"4LZ4De2MoO3lP6QaNCfvcu\"\n",
    "}\n",
    "\n",
    "non_melodic_dubstep = {\n",
    "    'headhunterez':\"6C0KWmCdqrLU2LzzWBPbOy\",\n",
    "    'daft_punk':\"4tZwfgrHOc3mvqYlEYSvVi\",\n",
    "    'sara_landry':\"7eILArMiTFTQf8SEh5fFHK\",\n",
    "    'porter_robinson':\"3dz0NnIZhtKKeXZxLOxCam\",\n",
    "    'david_guetta':\"1Cs0zKBU1kc0i8ypK3B9ai\"\n",
    "}"
   ]
  },
  {
   "cell_type": "code",
   "execution_count": 4,
   "id": "58530fef",
   "metadata": {},
   "outputs": [],
   "source": [
    "# write a function that gets all the single names and id for all artists above\n",
    "\n",
    "def get_singles_1(artist_uri):\n",
    "    results = sp.artist_albums(artist_uri, album_type= \"single\", limit = 50, offset = 0)\n",
    "    singles = results['items']\n",
    "    \n",
    "    singles_and_ids = {}\n",
    "    \n",
    "    for single in singles:\n",
    "        name = single[\"name\"]\n",
    "        singles_and_ids[name] = single[\"id\"]\n",
    "    \n",
    "    return singles_and_ids\n",
    "\n",
    "def get_singles_2(artist_uri):\n",
    "    results = sp.artist_albums(artist_uri, album_type= \"single\", limit = 50, offset = 50)\n",
    "    singles = results['items']\n",
    "    \n",
    "    singles_and_ids = {}\n",
    "    \n",
    "    for single in singles:\n",
    "        name = single[\"name\"]\n",
    "        singles_and_ids[name] = single[\"id\"]\n",
    "    \n",
    "    return singles_and_ids"
   ]
  },
  {
   "cell_type": "code",
   "execution_count": 5,
   "id": "fd68374e",
   "metadata": {},
   "outputs": [],
   "source": [
    "# repeat the process but for albums now\n",
    "\n",
    "def get_albums(artist_uri):\n",
    "    results = sp.artist_albums(artist_uri, album_type= \"album\", limit = 50, offset = 0)\n",
    "    albums = results['items']\n",
    "    \n",
    "    albums_and_ids = {}\n",
    "    \n",
    "    for album in albums:\n",
    "        name = album[\"name\"]\n",
    "        albums_and_ids[name] = album[\"id\"]\n",
    "    \n",
    "    return albums_and_ids\n",
    "\n",
    "# returns a dictionary of album names and their respective uri's for a particular artist"
   ]
  },
  {
   "cell_type": "code",
   "execution_count": 6,
   "id": "ff01c0ae",
   "metadata": {},
   "outputs": [
    {
     "data": {
      "text/html": [
       "<div>\n",
       "<style scoped>\n",
       "    .dataframe tbody tr th:only-of-type {\n",
       "        vertical-align: middle;\n",
       "    }\n",
       "\n",
       "    .dataframe tbody tr th {\n",
       "        vertical-align: top;\n",
       "    }\n",
       "\n",
       "    .dataframe thead th {\n",
       "        text-align: right;\n",
       "    }\n",
       "</style>\n",
       "<table border=\"1\" class=\"dataframe\">\n",
       "  <thead>\n",
       "    <tr style=\"text-align: right;\">\n",
       "      <th></th>\n",
       "      <th>artist</th>\n",
       "      <th>name</th>\n",
       "      <th>danceability</th>\n",
       "      <th>energy</th>\n",
       "      <th>key</th>\n",
       "      <th>loudness</th>\n",
       "      <th>mode</th>\n",
       "      <th>speechiness</th>\n",
       "      <th>acousticness</th>\n",
       "      <th>instrumentalness</th>\n",
       "      <th>liveness</th>\n",
       "      <th>valence</th>\n",
       "      <th>tempo</th>\n",
       "      <th>type</th>\n",
       "      <th>id</th>\n",
       "      <th>uri</th>\n",
       "      <th>track_href</th>\n",
       "      <th>analysis_url</th>\n",
       "      <th>duration_ms</th>\n",
       "      <th>time_signature</th>\n",
       "    </tr>\n",
       "  </thead>\n",
       "  <tbody>\n",
       "  </tbody>\n",
       "</table>\n",
       "</div>"
      ],
      "text/plain": [
       "Empty DataFrame\n",
       "Columns: [artist, name, danceability, energy, key, loudness, mode, speechiness, acousticness, instrumentalness, liveness, valence, tempo, type, id, uri, track_href, analysis_url, duration_ms, time_signature]\n",
       "Index: []"
      ]
     },
     "execution_count": 6,
     "metadata": {},
     "output_type": "execute_result"
    }
   ],
   "source": [
    "columns = ['artist', 'name','danceability', 'energy', 'key', \n",
    "           'loudness', 'mode', 'speechiness', 'acousticness', \n",
    "           'instrumentalness', 'liveness', 'valence', 'tempo', \n",
    "           'type', 'id', 'uri', 'track_href', 'analysis_url', \n",
    "           'duration_ms', 'time_signature']\n",
    "\n",
    "df = pd.DataFrame(columns=columns)\n",
    "df"
   ]
  },
  {
   "cell_type": "code",
   "execution_count": 7,
   "id": "8f3180b6",
   "metadata": {},
   "outputs": [
    {
     "data": {
      "text/plain": [
       "{'ILLENIUM - Remixes': '6Ugig0sDdLrKGBW7j1skPO',\n",
       " 'ILLENIUM': '0ValflNlWce21wm5PlwV60',\n",
       " 'Fallen Embers (Remixes)': '1Yk31OUIHxpPlZVq4MNF4w',\n",
       " 'Fallen Embers (Deluxe Version)': '0KgcBsDY5uFt4EaG3roI3x',\n",
       " 'Fallen Embers': '4YomxhmDglPvD93W3T6l1V',\n",
       " 'ASCEND (Remixes)': '2Ds60s4LcHcb77dNQm22kA',\n",
       " 'ASCEND': '60xcVwuQJAOyu11xf9mObS',\n",
       " 'Awake (Remixes)': '193rrDJYEHEjE5O1f4S7Y2',\n",
       " 'Awake': '7A9I9BrNylVCqXzgN3Y6qi',\n",
       " 'Ashes (Remixes)': '4RhFncqpUvS5pcX42kiPrd',\n",
       " 'Ashes': '6nQNina3AIvuhDELCDth8e'}"
      ]
     },
     "execution_count": 7,
     "metadata": {},
     "output_type": "execute_result"
    }
   ],
   "source": [
    "illenium_albums = get_albums(melodic_dubstep[\"illenium\"])\n",
    "illenium_albums"
   ]
  },
  {
   "cell_type": "code",
   "execution_count": 8,
   "id": "6202921c",
   "metadata": {},
   "outputs": [],
   "source": [
    "# make a function that returns the tracks and their respective ids for the albums and singles\n",
    "\n",
    "def get_tracks(album_dict, single_dict1, single_dict2):\n",
    "    result_tracks = {}\n",
    "    for album in album_dict.keys():\n",
    "        result = sp.album_tracks(album_dict[album])\n",
    "        tracks = result[\"items\"]\n",
    "        for track in tracks:\n",
    "            song_name = track[\"name\"]\n",
    "            result_tracks[song_name] = track[\"id\"]\n",
    "    for single in single_dict1.keys():\n",
    "        result = sp.album_tracks(single_dict1[single])\n",
    "        tracks = result[\"items\"]\n",
    "        for track in tracks:\n",
    "            song_name = track[\"name\"]\n",
    "            result_tracks[song_name] = track[\"id\"]\n",
    "    for single in single_dict2.keys():\n",
    "        result = sp.album_tracks(single_dict2[single])\n",
    "        tracks = result[\"items\"]\n",
    "        for track in tracks:\n",
    "            song_name = track[\"name\"]\n",
    "            result_tracks[song_name] = track[\"id\"]\n",
    "    return result_tracks"
   ]
  },
  {
   "cell_type": "code",
   "execution_count": 9,
   "id": "d2179202",
   "metadata": {},
   "outputs": [],
   "source": [
    "# use all the functions we've just created for the melodic_dubstep_artists\n",
    "\n",
    "melodic_dubstep_tracks = {}\n",
    "\n",
    "for artist in melodic_dubstep:\n",
    "    albums = get_albums(melodic_dubstep[artist])\n",
    "    singles1 = get_singles_1(melodic_dubstep[artist])\n",
    "    singles2 = get_singles_2(melodic_dubstep[artist])\n",
    "    melodic_dubstep_tracks[artist] = get_tracks(albums, singles1, singles2)"
   ]
  },
  {
   "cell_type": "code",
   "execution_count": null,
   "id": "7069a5c4",
   "metadata": {},
   "outputs": [],
   "source": [
    "# use audio_features to get the audio features of all these songs\n",
    "\n",
    "# Iterate over the artists and their tracks\n",
    "for artist in melodic_dubstep_tracks.keys():\n",
    "    for song in melodic_dubstep_tracks[artist].keys():\n",
    "        track_id = melodic_dubstep_tracks[artist][song]\n",
    "        audio_features = sp.audio_features(track_id)[0] \n",
    "\n",
    "        track_data = {\n",
    "            'artist': artist,\n",
    "            'name': song,\n",
    "            'danceability': audio_features['danceability'],\n",
    "            'energy': audio_features['energy'],\n",
    "            'key': audio_features['key'],\n",
    "            'loudness': audio_features['loudness'],\n",
    "            'mode': audio_features['mode'],\n",
    "            'speechiness': audio_features['speechiness'],\n",
    "            'acousticness': audio_features['acousticness'],\n",
    "            'instrumentalness': audio_features['instrumentalness'],\n",
    "            'liveness': audio_features['liveness'],\n",
    "            'valence': audio_features['valence'],\n",
    "            'tempo': audio_features['tempo'],\n",
    "            'type': audio_features['type'],\n",
    "            'uri': audio_features['uri'],\n",
    "            'duration_ms': audio_features['duration_ms'],\n",
    "            'time_signature': audio_features['time_signature']\n",
    "        }\n",
    "\n",
    "        df = df.append(track_data, ignore_index=True)"
   ]
  },
  {
   "cell_type": "code",
   "execution_count": null,
   "id": "576dbb00",
   "metadata": {},
   "outputs": [],
   "source": []
  }
 ],
 "metadata": {
  "kernelspec": {
   "display_name": "Python 3 (ipykernel)",
   "language": "python",
   "name": "python3"
  },
  "language_info": {
   "codemirror_mode": {
    "name": "ipython",
    "version": 3
   },
   "file_extension": ".py",
   "mimetype": "text/x-python",
   "name": "python",
   "nbconvert_exporter": "python",
   "pygments_lexer": "ipython3",
   "version": "3.8.18"
  }
 },
 "nbformat": 4,
 "nbformat_minor": 5
}
